{
  "nbformat": 4,
  "nbformat_minor": 0,
  "metadata": {
    "colab": {
      "provenance": [],
      "authorship_tag": "ABX9TyObhzaSA43qXsIV8uVUW09e",
      "include_colab_link": true
    },
    "kernelspec": {
      "name": "python3",
      "display_name": "Python 3"
    },
    "language_info": {
      "name": "python"
    }
  },
  "cells": [
    {
      "cell_type": "markdown",
      "metadata": {
        "id": "view-in-github",
        "colab_type": "text"
      },
      "source": [
        "<a href=\"https://colab.research.google.com/github/wlstjwlstj/22_05_python_ch2/blob/main/chapter2_exe.ipynb\" target=\"_parent\"><img src=\"https://colab.research.google.com/assets/colab-badge.svg\" alt=\"Open In Colab\"/></a>"
      ]
    },
    {
      "cell_type": "code",
      "execution_count": null,
      "metadata": {
        "id": "LgtfjgWvPlgJ"
      },
      "outputs": [],
      "source": []
    },
    {
      "cell_type": "markdown",
      "source": [
        "사용자로부터 이름과 나이를 입력하게 한다. 사용자가 100살이 되는 연도를 화면에 출력하는 프로그램을 작성하라."
      ],
      "metadata": {
        "id": "NkeqcgklPl9Z"
      }
    },
    {
      "cell_type": "code",
      "source": [
        "name = input(\"이름을 입력하시오.:\")     #변수 name에 input함수를 사용하여 사용자\n",
        "age = int(input(\"나이를 입력하시오. :\"))#변수 age에 int(정수형선언) 함수로 사용자\n",
        "year = 2022 - age+100\n",
        "print(name+ \"씨는\" + str(year) + \"년에 100살입니다.\")"
      ],
      "metadata": {
        "colab": {
          "base_uri": "https://localhost:8080/"
        },
        "id": "7zAngffIQLfK",
        "outputId": "7ca95247-5718-4ed9-e31e-55d327223e74"
      },
      "execution_count": 1,
      "outputs": [
        {
          "output_type": "stream",
          "name": "stdout",
          "text": [
            "이름을 입력하시오.:진서\n",
            "나이를 입력하시오. :20\n",
            "진서씨는2102년에 100살입니다.\n"
          ]
        }
      ]
    },
    {
      "cell_type": "markdown",
      "source": [
        "사용자로부터 3개의 숫자를 받아서 평균을 계산하고 결과를 출력하는 프로그램을 작성하라."
      ],
      "metadata": {
        "id": "3H3HtNyfTa-e"
      }
    },
    {
      "cell_type": "code",
      "source": [
        "n1 =int(input(\"첫번째 숫자를 입력하시오:\"))\n",
        "n2 = int(input(\"두번째 숫자를 입력하시오:\"))\n",
        "n3 = int(input(\"세번째 숫자를 입력하시오:\"))\n",
        "average = (n1+n2+n3)/3\n",
        "print(n1+n2+n3, \"의 평균은\",average,\"입니다.\")\n",
        "sum= n1+n2+n3\n",
        "print(n1,n2,n3, \"합은\", sum, \"이고\",\"의 평균은\", average, \"입니다.\")"
      ],
      "metadata": {
        "colab": {
          "base_uri": "https://localhost:8080/"
        },
        "id": "-aHpPKS7Tk1w",
        "outputId": "bf0fda70-9ff2-420b-fbab-dc4de69b20a6"
      },
      "execution_count": 4,
      "outputs": [
        {
          "output_type": "stream",
          "name": "stdout",
          "text": [
            "첫번째 숫자를 입력하시오:10\n",
            "두번째 숫자를 입력하시오:20\n",
            "세번째 숫자를 입력하시오:30\n",
            "60 의 평균은 20.0 입니다.\n",
            "10 20 30 합은 60 이고 의 평균은 20.0 입니다.\n"
          ]
        }
      ]
    },
    {
      "cell_type": "markdown",
      "source": [
        "(3) 사용자로부터 원의 반지름을 입력받아서 원의 면적을 구하시오."
      ],
      "metadata": {
        "id": "Y0jcjnEDV-3P"
      }
    },
    {
      "cell_type": "code",
      "source": [
        "radius = int(input(\"반지름을 입력하시오:\"))\n",
        "area = 3.141592 * radius *radius\n",
        "print(\"반지름이\", radius, \"인 원의 넓이=\",area, \"입니다.\")"
      ],
      "metadata": {
        "colab": {
          "base_uri": "https://localhost:8080/"
        },
        "id": "nSyfuyRkWK1y",
        "outputId": "d8bb0459-aa03-4486-d746-03b53ed12ce9"
      },
      "execution_count": 6,
      "outputs": [
        {
          "output_type": "stream",
          "name": "stdout",
          "text": [
            "반지름을 입력하시오:10\n",
            "반지름이 10 인 원의 넓이= 314.1592 입니다.\n"
          ]
        }
      ]
    }
  ]
}